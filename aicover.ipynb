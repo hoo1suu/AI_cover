{
  "cells": [
    {
      "cell_type": "markdown",
      "metadata": {
        "id": "view-in-github",
        "colab_type": "text"
      },
      "source": [
        "<a href=\"https://colab.research.google.com/github/hoo1suu/AI_cover/blob/main/aicover.ipynb\" target=\"_parent\"><img src=\"https://colab.research.google.com/assets/colab-badge.svg\" alt=\"Open In Colab\"/></a>"
      ]
    },
    {
      "cell_type": "markdown",
      "source": [
        "https://github.com/ardha27/AICoverGen-NoUI-Colab"
      ],
      "metadata": {
        "id": "PNIn-NKDjYJ3"
      }
    },
    {
      "cell_type": "code",
      "source": [
        "from google.colab import drive\n",
        "drive.mount('/content/drive')\n"
      ],
      "metadata": {
        "colab": {
          "base_uri": "https://localhost:8080/"
        },
        "id": "QxKi_nfLG_0p",
        "outputId": "42c13c71-3f69-4e87-fa6a-d91f9c397aed"
      },
      "execution_count": null,
      "outputs": [
        {
          "output_type": "stream",
          "name": "stdout",
          "text": [
            "Drive already mounted at /content/drive; to attempt to forcibly remount, call drive.mount(\"/content/drive\", force_remount=True).\n"
          ]
        }
      ]
    },
    {
      "cell_type": "code",
      "execution_count": null,
      "metadata": {
        "id": "9pc1cXR_MSZ3",
        "colab": {
          "base_uri": "https://localhost:8080/"
        },
        "outputId": "52438572-8323-4ac4-ff20-f72491a6a9b0"
      },
      "outputs": [
        {
          "output_type": "stream",
          "name": "stdout",
          "text": [
            "fatal: destination path 'AICoverGen' already exists and is not an empty directory.\n",
            "/content/AICoverGen\n"
          ]
        }
      ],
      "source": [
        "#@title 깃클론\n",
        "!git clone https://github.com/SociallyIneptWeeb/AICoverGen.git\n",
        "%cd AICoverGen"
      ]
    },
    {
      "cell_type": "code",
      "execution_count": null,
      "metadata": {
        "id": "LgBrHbFtMVaa",
        "colab": {
          "base_uri": "https://localhost:8080/"
        },
        "outputId": "ca55fcfe-b0fd-4c58-a548-b52b86404013"
      },
      "outputs": [
        {
          "output_type": "stream",
          "name": "stdout",
          "text": [
            "Requirement already satisfied: pip==24.0.0 in /usr/local/lib/python3.10/dist-packages (24.0)\n",
            "\u001b[33mDEPRECATION: omegaconf 2.0.6 has a non-standard dependency specifier PyYAML>=5.1.*. pip 24.1 will enforce this behaviour change. A possible replacement is to upgrade to a newer version of omegaconf or contact the author to suggest that they release a version with a conforming dependency specifiers. Discussion can be found at https://github.com/pypa/pip/issues/12063\u001b[0m\u001b[33m\n",
            "\u001b[0m\u001b[33mDEPRECATION: omegaconf 2.0.6 has a non-standard dependency specifier PyYAML>=5.1.*. pip 24.1 will enforce this behaviour change. A possible replacement is to upgrade to a newer version of omegaconf or contact the author to suggest that they release a version with a conforming dependency specifiers. Discussion can be found at https://github.com/pypa/pip/issues/12063\u001b[0m\u001b[33m\n",
            "\u001b[0mRequirement already satisfied: pyworld in /usr/local/lib/python3.10/dist-packages (0.3.4)\n",
            "Requirement already satisfied: praat-parselmouth in /usr/local/lib/python3.10/dist-packages (0.4.5)\n",
            "Requirement already satisfied: faiss-cpu in /usr/local/lib/python3.10/dist-packages (1.7.3)\n",
            "Requirement already satisfied: ffmpeg-python in /usr/local/lib/python3.10/dist-packages (0.2.0)\n",
            "Requirement already satisfied: fairseq in /usr/local/lib/python3.10/dist-packages (0.12.2)\n",
            "Requirement already satisfied: onnxruntime in /usr/local/lib/python3.10/dist-packages (1.19.2)\n",
            "Requirement already satisfied: pedalboard in /usr/local/lib/python3.10/dist-packages (0.7.7)\n",
            "Requirement already satisfied: yt_dlp in /usr/local/lib/python3.10/dist-packages (2023.7.6)\n",
            "Requirement already satisfied: sox in /usr/local/lib/python3.10/dist-packages (1.4.1)\n",
            "Requirement already satisfied: gradio in /usr/local/lib/python3.10/dist-packages (3.39.0)\n",
            "Requirement already satisfied: numpy in /usr/local/lib/python3.10/dist-packages (from pyworld) (1.23.5)\n",
            "Requirement already satisfied: cython>=0.24 in /usr/local/lib/python3.10/dist-packages (from pyworld) (3.0.11)\n",
            "Requirement already satisfied: future in /usr/local/lib/python3.10/dist-packages (from ffmpeg-python) (1.0.0)\n",
            "Requirement already satisfied: cffi in /usr/local/lib/python3.10/dist-packages (from fairseq) (1.17.1)\n",
            "Requirement already satisfied: hydra-core<1.1,>=1.0.7 in /usr/local/lib/python3.10/dist-packages (from fairseq) (1.0.7)\n",
            "Requirement already satisfied: omegaconf<2.1 in /usr/local/lib/python3.10/dist-packages (from fairseq) (2.0.6)\n",
            "Requirement already satisfied: regex in /usr/local/lib/python3.10/dist-packages (from fairseq) (2024.9.11)\n",
            "Requirement already satisfied: sacrebleu>=1.4.12 in /usr/local/lib/python3.10/dist-packages (from fairseq) (2.4.3)\n",
            "Requirement already satisfied: torch in /usr/local/lib/python3.10/dist-packages (from fairseq) (2.0.1+cu118)\n",
            "Requirement already satisfied: tqdm in /usr/local/lib/python3.10/dist-packages (from fairseq) (4.65.0)\n",
            "Requirement already satisfied: bitarray in /usr/local/lib/python3.10/dist-packages (from fairseq) (3.0.0)\n",
            "Requirement already satisfied: torchaudio>=0.8.0 in /usr/local/lib/python3.10/dist-packages (from fairseq) (2.0.2+rocm5.4.2)\n",
            "Requirement already satisfied: coloredlogs in /usr/local/lib/python3.10/dist-packages (from onnxruntime) (15.0.1)\n",
            "Requirement already satisfied: flatbuffers in /usr/local/lib/python3.10/dist-packages (from onnxruntime) (24.3.25)\n",
            "Requirement already satisfied: packaging in /usr/local/lib/python3.10/dist-packages (from onnxruntime) (24.1)\n",
            "Requirement already satisfied: protobuf in /usr/local/lib/python3.10/dist-packages (from onnxruntime) (3.20.3)\n",
            "Requirement already satisfied: sympy in /usr/local/lib/python3.10/dist-packages (from onnxruntime) (1.13.1)\n",
            "Requirement already satisfied: mutagen in /usr/local/lib/python3.10/dist-packages (from yt_dlp) (1.47.0)\n",
            "Requirement already satisfied: pycryptodomex in /usr/local/lib/python3.10/dist-packages (from yt_dlp) (3.21.0)\n",
            "Requirement already satisfied: websockets in /usr/local/lib/python3.10/dist-packages (from yt_dlp) (11.0.3)\n",
            "Requirement already satisfied: certifi in /usr/local/lib/python3.10/dist-packages (from yt_dlp) (2024.8.30)\n",
            "Requirement already satisfied: brotli in /usr/local/lib/python3.10/dist-packages (from yt_dlp) (1.1.0)\n",
            "Requirement already satisfied: aiofiles<24.0,>=22.0 in /usr/local/lib/python3.10/dist-packages (from gradio) (23.2.1)\n",
            "Requirement already satisfied: aiohttp~=3.0 in /usr/local/lib/python3.10/dist-packages (from gradio) (3.10.10)\n",
            "Requirement already satisfied: altair<6.0,>=4.2.0 in /usr/local/lib/python3.10/dist-packages (from gradio) (4.2.2)\n",
            "Requirement already satisfied: fastapi in /usr/local/lib/python3.10/dist-packages (from gradio) (0.115.4)\n",
            "Requirement already satisfied: ffmpy in /usr/local/lib/python3.10/dist-packages (from gradio) (0.4.0)\n",
            "Requirement already satisfied: gradio-client>=0.3.0 in /usr/local/lib/python3.10/dist-packages (from gradio) (1.4.2)\n",
            "Requirement already satisfied: httpx in /usr/local/lib/python3.10/dist-packages (from gradio) (0.27.2)\n",
            "Requirement already satisfied: huggingface-hub>=0.14.0 in /usr/local/lib/python3.10/dist-packages (from gradio) (0.24.7)\n",
            "Requirement already satisfied: jinja2<4.0 in /usr/local/lib/python3.10/dist-packages (from gradio) (3.1.4)\n",
            "Requirement already satisfied: markdown-it-py>=2.0.0 in /usr/local/lib/python3.10/dist-packages (from markdown-it-py[linkify]>=2.0.0->gradio) (2.2.0)\n",
            "Requirement already satisfied: markupsafe~=2.0 in /usr/local/lib/python3.10/dist-packages (from gradio) (2.1.5)\n",
            "Requirement already satisfied: matplotlib~=3.0 in /usr/local/lib/python3.10/dist-packages (from gradio) (3.7.1)\n",
            "Requirement already satisfied: mdit-py-plugins<=0.3.3 in /usr/local/lib/python3.10/dist-packages (from gradio) (0.3.3)\n",
            "Requirement already satisfied: orjson~=3.0 in /usr/local/lib/python3.10/dist-packages (from gradio) (3.10.10)\n",
            "Requirement already satisfied: pandas<3.0,>=1.0 in /usr/local/lib/python3.10/dist-packages (from gradio) (2.2.2)\n",
            "Requirement already satisfied: pillow<11.0,>=8.0 in /usr/local/lib/python3.10/dist-packages (from gradio) (10.4.0)\n",
            "Requirement already satisfied: pydantic!=1.8,!=1.8.1,!=2.0.0,!=2.0.1,<3.0.0,>=1.7.4 in /usr/local/lib/python3.10/dist-packages (from gradio) (2.9.2)\n",
            "Requirement already satisfied: pydub in /usr/local/lib/python3.10/dist-packages (from gradio) (0.25.1)\n",
            "Requirement already satisfied: python-multipart in /usr/local/lib/python3.10/dist-packages (from gradio) (0.0.16)\n",
            "Requirement already satisfied: pyyaml<7.0,>=5.0 in /usr/local/lib/python3.10/dist-packages (from gradio) (6.0.2)\n",
            "Requirement already satisfied: requests~=2.0 in /usr/local/lib/python3.10/dist-packages (from gradio) (2.31.0)\n",
            "Requirement already satisfied: semantic-version~=2.0 in /usr/local/lib/python3.10/dist-packages (from gradio) (2.10.0)\n",
            "Requirement already satisfied: typing-extensions~=4.0 in /usr/local/lib/python3.10/dist-packages (from gradio) (4.12.2)\n",
            "Requirement already satisfied: uvicorn>=0.14.0 in /usr/local/lib/python3.10/dist-packages (from gradio) (0.32.0)\n",
            "Requirement already satisfied: aiohappyeyeballs>=2.3.0 in /usr/local/lib/python3.10/dist-packages (from aiohttp~=3.0->gradio) (2.4.3)\n",
            "Requirement already satisfied: aiosignal>=1.1.2 in /usr/local/lib/python3.10/dist-packages (from aiohttp~=3.0->gradio) (1.3.1)\n",
            "Requirement already satisfied: attrs>=17.3.0 in /usr/local/lib/python3.10/dist-packages (from aiohttp~=3.0->gradio) (24.2.0)\n",
            "Requirement already satisfied: frozenlist>=1.1.1 in /usr/local/lib/python3.10/dist-packages (from aiohttp~=3.0->gradio) (1.4.1)\n",
            "Requirement already satisfied: multidict<7.0,>=4.5 in /usr/local/lib/python3.10/dist-packages (from aiohttp~=3.0->gradio) (6.1.0)\n",
            "Requirement already satisfied: yarl<2.0,>=1.12.0 in /usr/local/lib/python3.10/dist-packages (from aiohttp~=3.0->gradio) (1.16.0)\n",
            "Requirement already satisfied: async-timeout<5.0,>=4.0 in /usr/local/lib/python3.10/dist-packages (from aiohttp~=3.0->gradio) (4.0.3)\n",
            "Requirement already satisfied: entrypoints in /usr/local/lib/python3.10/dist-packages (from altair<6.0,>=4.2.0->gradio) (0.4)\n",
            "Requirement already satisfied: jsonschema>=3.0 in /usr/local/lib/python3.10/dist-packages (from altair<6.0,>=4.2.0->gradio) (4.23.0)\n",
            "Requirement already satisfied: toolz in /usr/local/lib/python3.10/dist-packages (from altair<6.0,>=4.2.0->gradio) (0.12.1)\n",
            "Requirement already satisfied: fsspec in /usr/local/lib/python3.10/dist-packages (from gradio-client>=0.3.0->gradio) (2024.6.1)\n",
            "Requirement already satisfied: anyio in /usr/local/lib/python3.10/dist-packages (from httpx->gradio) (3.7.1)\n",
            "Requirement already satisfied: httpcore==1.* in /usr/local/lib/python3.10/dist-packages (from httpx->gradio) (1.0.6)\n",
            "Requirement already satisfied: idna in /usr/local/lib/python3.10/dist-packages (from httpx->gradio) (3.10)\n",
            "Requirement already satisfied: sniffio in /usr/local/lib/python3.10/dist-packages (from httpx->gradio) (1.3.1)\n",
            "Requirement already satisfied: h11<0.15,>=0.13 in /usr/local/lib/python3.10/dist-packages (from httpcore==1.*->httpx->gradio) (0.14.0)\n",
            "Requirement already satisfied: filelock in /usr/local/lib/python3.10/dist-packages (from huggingface-hub>=0.14.0->gradio) (3.16.1)\n",
            "Requirement already satisfied: antlr4-python3-runtime==4.8 in /usr/local/lib/python3.10/dist-packages (from hydra-core<1.1,>=1.0.7->fairseq) (4.8)\n",
            "Requirement already satisfied: mdurl~=0.1 in /usr/local/lib/python3.10/dist-packages (from markdown-it-py>=2.0.0->markdown-it-py[linkify]>=2.0.0->gradio) (0.1.2)\n",
            "Requirement already satisfied: linkify-it-py<3,>=1 in /usr/local/lib/python3.10/dist-packages (from markdown-it-py[linkify]>=2.0.0->gradio) (2.0.3)\n",
            "Requirement already satisfied: contourpy>=1.0.1 in /usr/local/lib/python3.10/dist-packages (from matplotlib~=3.0->gradio) (1.3.0)\n",
            "Requirement already satisfied: cycler>=0.10 in /usr/local/lib/python3.10/dist-packages (from matplotlib~=3.0->gradio) (0.12.1)\n",
            "Requirement already satisfied: fonttools>=4.22.0 in /usr/local/lib/python3.10/dist-packages (from matplotlib~=3.0->gradio) (4.54.1)\n",
            "Requirement already satisfied: kiwisolver>=1.0.1 in /usr/local/lib/python3.10/dist-packages (from matplotlib~=3.0->gradio) (1.4.7)\n",
            "Requirement already satisfied: pyparsing>=2.3.1 in /usr/local/lib/python3.10/dist-packages (from matplotlib~=3.0->gradio) (3.2.0)\n",
            "Requirement already satisfied: python-dateutil>=2.7 in /usr/local/lib/python3.10/dist-packages (from matplotlib~=3.0->gradio) (2.8.2)\n",
            "Requirement already satisfied: pytz>=2020.1 in /usr/local/lib/python3.10/dist-packages (from pandas<3.0,>=1.0->gradio) (2024.2)\n",
            "Requirement already satisfied: tzdata>=2022.7 in /usr/local/lib/python3.10/dist-packages (from pandas<3.0,>=1.0->gradio) (2024.2)\n",
            "Requirement already satisfied: annotated-types>=0.6.0 in /usr/local/lib/python3.10/dist-packages (from pydantic!=1.8,!=1.8.1,!=2.0.0,!=2.0.1,<3.0.0,>=1.7.4->gradio) (0.7.0)\n",
            "Requirement already satisfied: pydantic-core==2.23.4 in /usr/local/lib/python3.10/dist-packages (from pydantic!=1.8,!=1.8.1,!=2.0.0,!=2.0.1,<3.0.0,>=1.7.4->gradio) (2.23.4)\n",
            "Requirement already satisfied: charset-normalizer<4,>=2 in /usr/local/lib/python3.10/dist-packages (from requests~=2.0->gradio) (3.4.0)\n",
            "Requirement already satisfied: urllib3<3,>=1.21.1 in /usr/local/lib/python3.10/dist-packages (from requests~=2.0->gradio) (2.2.3)\n",
            "Requirement already satisfied: portalocker in /usr/local/lib/python3.10/dist-packages (from sacrebleu>=1.4.12->fairseq) (2.10.1)\n",
            "Requirement already satisfied: tabulate>=0.8.9 in /usr/local/lib/python3.10/dist-packages (from sacrebleu>=1.4.12->fairseq) (0.9.0)\n",
            "Requirement already satisfied: colorama in /usr/local/lib/python3.10/dist-packages (from sacrebleu>=1.4.12->fairseq) (0.4.6)\n",
            "Requirement already satisfied: lxml in /usr/local/lib/python3.10/dist-packages (from sacrebleu>=1.4.12->fairseq) (4.9.4)\n",
            "Requirement already satisfied: networkx in /usr/local/lib/python3.10/dist-packages (from torch->fairseq) (3.4.2)\n",
            "Requirement already satisfied: triton==2.0.0 in /usr/local/lib/python3.10/dist-packages (from torch->fairseq) (2.0.0)\n",
            "Requirement already satisfied: cmake in /usr/local/lib/python3.10/dist-packages (from triton==2.0.0->torch->fairseq) (3.30.5)\n",
            "Requirement already satisfied: lit in /usr/local/lib/python3.10/dist-packages (from triton==2.0.0->torch->fairseq) (18.1.8)\n",
            "Requirement already satisfied: click>=7.0 in /usr/local/lib/python3.10/dist-packages (from uvicorn>=0.14.0->gradio) (8.1.7)\n",
            "Requirement already satisfied: pycparser in /usr/local/lib/python3.10/dist-packages (from cffi->fairseq) (2.22)\n",
            "Requirement already satisfied: humanfriendly>=9.1 in /usr/local/lib/python3.10/dist-packages (from coloredlogs->onnxruntime) (10.0)\n",
            "Requirement already satisfied: starlette<0.42.0,>=0.40.0 in /usr/local/lib/python3.10/dist-packages (from fastapi->gradio) (0.41.2)\n",
            "Requirement already satisfied: mpmath<1.4,>=1.1.0 in /usr/local/lib/python3.10/dist-packages (from sympy->onnxruntime) (1.3.0)\n",
            "Requirement already satisfied: jsonschema-specifications>=2023.03.6 in /usr/local/lib/python3.10/dist-packages (from jsonschema>=3.0->altair<6.0,>=4.2.0->gradio) (2024.10.1)\n",
            "Requirement already satisfied: referencing>=0.28.4 in /usr/local/lib/python3.10/dist-packages (from jsonschema>=3.0->altair<6.0,>=4.2.0->gradio) (0.35.1)\n",
            "Requirement already satisfied: rpds-py>=0.7.1 in /usr/local/lib/python3.10/dist-packages (from jsonschema>=3.0->altair<6.0,>=4.2.0->gradio) (0.20.0)\n",
            "Requirement already satisfied: uc-micro-py in /usr/local/lib/python3.10/dist-packages (from linkify-it-py<3,>=1->markdown-it-py[linkify]>=2.0.0->gradio) (1.0.3)\n",
            "Requirement already satisfied: six>=1.5 in /usr/local/lib/python3.10/dist-packages (from python-dateutil>=2.7->matplotlib~=3.0->gradio) (1.16.0)\n",
            "Requirement already satisfied: exceptiongroup in /usr/local/lib/python3.10/dist-packages (from anyio->httpx->gradio) (1.2.2)\n",
            "Requirement already satisfied: propcache>=0.2.0 in /usr/local/lib/python3.10/dist-packages (from yarl<2.0,>=1.12.0->aiohttp~=3.0->gradio) (0.2.0)\n",
            "\u001b[33mDEPRECATION: omegaconf 2.0.6 has a non-standard dependency specifier PyYAML>=5.1.*. pip 24.1 will enforce this behaviour change. A possible replacement is to upgrade to a newer version of omegaconf or contact the author to suggest that they release a version with a conforming dependency specifiers. Discussion can be found at https://github.com/pypa/pip/issues/12063\u001b[0m\u001b[33m\n",
            "Hit:1 https://cloud.r-project.org/bin/linux/ubuntu jammy-cran40/ InRelease\n",
            "Hit:2 https://developer.download.nvidia.com/compute/cuda/repos/ubuntu2204/x86_64  InRelease\n",
            "Hit:3 http://security.ubuntu.com/ubuntu jammy-security InRelease\n",
            "Hit:4 http://archive.ubuntu.com/ubuntu jammy InRelease\n",
            "Ign:5 https://r2u.stat.illinois.edu/ubuntu jammy InRelease\n",
            "Hit:6 http://archive.ubuntu.com/ubuntu jammy-updates InRelease\n",
            "Hit:7 https://r2u.stat.illinois.edu/ubuntu jammy Release\n",
            "Hit:8 http://archive.ubuntu.com/ubuntu jammy-backports InRelease\n",
            "Hit:9 https://ppa.launchpadcontent.net/deadsnakes/ppa/ubuntu jammy InRelease\n",
            "Hit:10 https://ppa.launchpadcontent.net/graphics-drivers/ppa/ubuntu jammy InRelease\n",
            "Hit:12 https://ppa.launchpadcontent.net/ubuntugis/ppa/ubuntu jammy InRelease\n",
            "Reading package lists... Done\n",
            "Building dependency tree... Done\n",
            "Reading state information... Done\n",
            "50 packages can be upgraded. Run 'apt list --upgradable' to see them.\n",
            "\u001b[1;33mW: \u001b[0mSkipping acquire of configured file 'main/source/Sources' as repository 'https://r2u.stat.illinois.edu/ubuntu jammy InRelease' does not seem to provide it (sources.list entry misspelt?)\u001b[0m\n",
            "Reading package lists... Done\n",
            "Building dependency tree... Done\n",
            "Reading state information... Done\n",
            "sox is already the newest version (14.4.2+git20190427-2+deb11u2ubuntu0.22.04.1).\n",
            "0 upgraded, 0 newly installed, 0 to remove and 50 not upgraded.\n"
          ]
        }
      ],
      "source": [
        "#@title 라이브러리 설치\n",
        "!pip install pip==24.0.0\n",
        "!pip install -q -r requirements.txt\n",
        "\n",
        "# 필수 라이브러리 설치\n",
        "!pip install pyworld praat-parselmouth faiss-cpu ffmpeg-python fairseq onnxruntime pedalboard yt_dlp sox gradio\n",
        "\n",
        "# 추가 시스템 패키지 설치\n",
        "!sudo apt update\n",
        "!sudo apt install -y sox"
      ]
    },
    {
      "cell_type": "code",
      "execution_count": null,
      "metadata": {
        "id": "w0q4k7WyMXHX",
        "colab": {
          "base_uri": "https://localhost:8080/"
        },
        "outputId": "46c47110-6c9a-49bf-f98a-b1d0e70ed1b2"
      },
      "outputs": [
        {
          "output_type": "stream",
          "name": "stdout",
          "text": [
            "Downloading UVR-MDX-NET-Voc_FT.onnx...\n",
            "Downloading UVR_MDXNET_KARA_2.onnx...\n",
            "Downloading Reverb_HQ_By_FoxJoy.onnx...\n",
            "Downloading hubert_base.pt...\n",
            "Downloading rmvpe.pt...\n",
            "All models downloaded!\n"
          ]
        }
      ],
      "source": [
        "#@title MDXNet 보컬 분리 및 Hubert Base 모델 다운로드\n",
        "!python src/download_models.py\n"
      ]
    },
    {
      "cell_type": "markdown",
      "source": [
        "Example of generated audio path\n",
        "\n",
        "![image_2023-09-20_182238723.png](data:image/png;base64,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)"
      ],
      "metadata": {
        "id": "7Hs7P0QYHHZJ"
      }
    },
    {
      "cell_type": "code",
      "source": [
        "import gradio as gr\n",
        "import subprocess\n",
        "import os\n",
        "import zipfile\n",
        "import shutil\n",
        "\n",
        "def load_model(uploaded_file, model_name):\n",
        "    try:\n",
        "        # 현재 작업 디렉토리 설정\n",
        "        BASE_DIR = os.getcwd()\n",
        "        rvc_models_dir = os.path.join(BASE_DIR, 'rvc_models')\n",
        "\n",
        "        # zip 파일을 추출하는 함수\n",
        "        def extract_zip(extraction_folder, zip_name):\n",
        "            os.makedirs(extraction_folder, exist_ok=True)\n",
        "            with zipfile.ZipFile(zip_name, 'r') as zip_ref:\n",
        "                zip_ref.extractall(extraction_folder)\n",
        "            os.remove(zip_name)\n",
        "\n",
        "            index_filepath, model_filepath = None, None\n",
        "            for root, dirs, files in os.walk(extraction_folder):\n",
        "                for name in files:\n",
        "                    if name.endswith('.index') and os.stat(os.path.join(root, name)).st_size > 1024 * 100:\n",
        "                        index_filepath = os.path.join(root, name)\n",
        "                    if name.endswith('.pth') and os.stat(os.path.join(root, name)).st_size > 1024 * 1024 * 40:\n",
        "                        model_filepath = os.path.join(root, name)\n",
        "            if not model_filepath:\n",
        "                raise Exception(f'추출된 zip에서 .pth 모델 파일을 찾을 수 없습니다. {extraction_folder}를 확인하세요.')\n",
        "            os.rename(model_filepath, os.path.join(extraction_folder, os.path.basename(model_filepath)))\n",
        "            if index_filepath:\n",
        "                os.rename(index_filepath, os.path.join(extraction_folder, os.path.basename(index_filepath)))\n",
        "            for filepath in os.listdir(extraction_folder):\n",
        "                if os.path.isdir(os.path.join(extraction_folder, filepath)):\n",
        "                    shutil.rmtree(os.path.join(extraction_folder, filepath))\n",
        "\n",
        "        # 업로드된 파일 경로 저장\n",
        "        extraction_folder = os.path.join(rvc_models_dir, model_name)\n",
        "        uploaded_file_path = uploaded_file.name\n",
        "\n",
        "        # zip 파일을 추출\n",
        "        extract_zip(extraction_folder, uploaded_file_path)\n",
        "        return f\"모델 '{model_name}'이 성공적으로 로드되었습니다!\"\n",
        "    except Exception as e:\n",
        "        return str(e)\n",
        "\n",
        "# 오디오 변환 함수 정의\n",
        "def convert_audio(song_url, model_name, pitch_change, output_format):\n",
        "    try:\n",
        "        # pitch_change를 int로 변환\n",
        "        pitch_change = int(pitch_change)\n",
        "\n",
        "        # 변환 명령어 실행\n",
        "        command = [\n",
        "            \"python\", \"src/main.py\",\n",
        "            \"-i\", song_url,  # 입력된 노래 URL\n",
        "            \"-dir\", model_name,  # 음성 모델 디렉토리\n",
        "            \"-p\", str(pitch_change),  # 피치 변환 값\n",
        "            \"-k\",\n",
        "            \"-oformat\", output_format  # 출력 형식\n",
        "        ]\n",
        "\n",
        "        process = subprocess.Popen(command, stdout=subprocess.PIPE, stderr=subprocess.PIPE, universal_newlines=True)\n",
        "\n",
        "        # 실시간으로 출력 및 에러 수집\n",
        "        output = \"\"\n",
        "        for line in process.stdout:\n",
        "            output += line + \"\\n\"  # 출력 내용을 누적\n",
        "\n",
        "        for line in process.stderr:\n",
        "            output += \"ERROR: \" + line + \"\\n\"  # 에러 내용을 누적\n",
        "\n",
        "        process.wait()\n",
        "        return output\n",
        "    except Exception as e:\n",
        "        return str(e)\n",
        "\n",
        "# Gradio 인터페이스 정의\n",
        "def gradio_ui():\n",
        "    with gr.Blocks() as demo:\n",
        "        gr.Markdown(\"# RVC 음성 변환 - Gradio UI\")\n",
        "\n",
        "        # 모델 로드 섹션\n",
        "        with gr.Row():\n",
        "            model_file = gr.File(label=\"모델 파일 업로드 (zip 파일)\", file_types=[\".zip\"])\n",
        "            model_name = gr.Textbox(label=\"모델 이름\", placeholder=\"모델 디렉토리 이름 입력\")\n",
        "            load_btn = gr.Button(\"모델 로드\")\n",
        "            model_output = gr.Textbox(label=\"모델 상태\", placeholder=\"모델 로드 결과\")\n",
        "\n",
        "        # 변환 섹션\n",
        "        with gr.Row():\n",
        "            song_url = gr.Textbox(label=\"노래 YouTube 링크\", placeholder=\"YouTube URL 입력\")\n",
        "            pitch_change = gr.Slider(label=\"피치 변경\", minimum=-12, maximum=12, step=1, value=0)  # 피치 변경 값 설정\n",
        "            output_format = gr.Dropdown(choices=[\"mp3\", \"wav\"], label=\"출력 형식\", value=\"mp3\")\n",
        "            convert_btn = gr.Button(\"변환 실행\")\n",
        "            conversion_output = gr.Textbox(label=\"변환 결과\", placeholder=\"변환 진행 상태 또는 결과\", lines=10)\n",
        "\n",
        "        # 버튼 동작 정의\n",
        "        load_btn.click(fn=load_model, inputs=[model_file, model_name], outputs=[model_output])\n",
        "        convert_btn.click(fn=convert_audio, inputs=[song_url, model_name, pitch_change, output_format], outputs=[conversion_output])\n",
        "\n",
        "    return demo\n",
        "\n",
        "# Gradio UI 실행\n",
        "gradio_ui().launch(share=True)"
      ],
      "metadata": {
        "colab": {
          "base_uri": "https://localhost:8080/",
          "height": 632
        },
        "id": "aC7QlSXWm8xa",
        "outputId": "30e82c35-998c-40e9-f880-05ccc830fbcb"
      },
      "execution_count": null,
      "outputs": [
        {
          "output_type": "stream",
          "name": "stdout",
          "text": [
            "Colab notebook detected. To show errors in colab notebook, set debug=True in launch()\n",
            "IMPORTANT: You are using gradio version 3.39.0, however version 4.44.1 is available, please upgrade.\n",
            "--------\n",
            "Running on public URL: https://a82df520bb7c2f68bc.gradio.live\n",
            "\n",
            "This share link expires in 72 hours. For free permanent hosting and GPU upgrades, run `gradio deploy` from Terminal to deploy to Spaces (https://huggingface.co/spaces)\n"
          ]
        },
        {
          "output_type": "display_data",
          "data": {
            "text/plain": [
              "<IPython.core.display.HTML object>"
            ],
            "text/html": [
              "<div><iframe src=\"https://a82df520bb7c2f68bc.gradio.live\" width=\"100%\" height=\"500\" allow=\"autoplay; camera; microphone; clipboard-read; clipboard-write;\" frameborder=\"0\" allowfullscreen></iframe></div>"
            ]
          },
          "metadata": {}
        },
        {
          "output_type": "execute_result",
          "data": {
            "text/plain": []
          },
          "metadata": {},
          "execution_count": 8
        }
      ]
    },
    {
      "cell_type": "code",
      "source": [],
      "metadata": {
        "id": "PUYHdnKNfF2m"
      },
      "execution_count": null,
      "outputs": []
    }
  ],
  "metadata": {
    "accelerator": "GPU",
    "colab": {
      "provenance": [],
      "machine_shape": "hm",
      "gpuType": "T4",
      "include_colab_link": true
    },
    "kernelspec": {
      "display_name": "Python 3",
      "name": "python3"
    },
    "language_info": {
      "name": "python"
    }
  },
  "nbformat": 4,
  "nbformat_minor": 0
}